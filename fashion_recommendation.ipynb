{
 "cells": [
  {
   "cell_type": "code",
   "execution_count": 1,
   "id": "a471e283",
   "metadata": {},
   "outputs": [],
   "source": [
    "import numpy as np\n",
    "import pandas as pd\n"
   ]
  },
  {
   "cell_type": "code",
   "execution_count": 2,
   "id": "a8884450",
   "metadata": {},
   "outputs": [],
   "source": [
    "fashion= pd.read_csv('data.csv')"
   ]
  },
  {
   "cell_type": "code",
   "execution_count": 3,
   "id": "ec82b8b6",
   "metadata": {},
   "outputs": [
    {
     "data": {
      "text/html": [
       "<div>\n",
       "<style scoped>\n",
       "    .dataframe tbody tr th:only-of-type {\n",
       "        vertical-align: middle;\n",
       "    }\n",
       "\n",
       "    .dataframe tbody tr th {\n",
       "        vertical-align: top;\n",
       "    }\n",
       "\n",
       "    .dataframe thead th {\n",
       "        text-align: right;\n",
       "    }\n",
       "</style>\n",
       "<table border=\"1\" class=\"dataframe\">\n",
       "  <thead>\n",
       "    <tr style=\"text-align: right;\">\n",
       "      <th></th>\n",
       "      <th>product_name</th>\n",
       "      <th>brand_name</th>\n",
       "      <th>rating</th>\n",
       "      <th>rating_count</th>\n",
       "      <th>marked_price</th>\n",
       "      <th>discounted_price</th>\n",
       "      <th>sizes</th>\n",
       "      <th>product_link</th>\n",
       "      <th>img_link</th>\n",
       "      <th>product_tag</th>\n",
       "      <th>brand_tag</th>\n",
       "      <th>discount_amount</th>\n",
       "      <th>discount_percent</th>\n",
       "    </tr>\n",
       "  </thead>\n",
       "  <tbody>\n",
       "    <tr>\n",
       "      <th>0</th>\n",
       "      <td>Croc Textured Two Fold Wallet</td>\n",
       "      <td>Lino Perros</td>\n",
       "      <td>0.0</td>\n",
       "      <td>0</td>\n",
       "      <td>1295</td>\n",
       "      <td>828</td>\n",
       "      <td>Onesize</td>\n",
       "      <td>wallets/lino-perros/lino-perros-women-peach-co...</td>\n",
       "      <td>https://assets.myntassets.com/dpr_2,q_60,w_210...</td>\n",
       "      <td>wallets</td>\n",
       "      <td>lino-perros</td>\n",
       "      <td>467</td>\n",
       "      <td>36</td>\n",
       "    </tr>\n",
       "    <tr>\n",
       "      <th>1</th>\n",
       "      <td>Men Striped Sliders</td>\n",
       "      <td>Mast &amp; Harbour</td>\n",
       "      <td>4.0</td>\n",
       "      <td>76</td>\n",
       "      <td>1299</td>\n",
       "      <td>584</td>\n",
       "      <td>UK6,UK7,UK8,UK9,UK10,UK11</td>\n",
       "      <td>flip-flops/mast--harbour/mast--harbour-men-nav...</td>\n",
       "      <td>https://assets.myntassets.com/dpr_2,q_60,w_210...</td>\n",
       "      <td>flip-flops</td>\n",
       "      <td>mast--harbour</td>\n",
       "      <td>715</td>\n",
       "      <td>55</td>\n",
       "    </tr>\n",
       "  </tbody>\n",
       "</table>\n",
       "</div>"
      ],
      "text/plain": [
       "                    product_name      brand_name  rating  rating_count  \\\n",
       "0  Croc Textured Two Fold Wallet     Lino Perros     0.0             0   \n",
       "1            Men Striped Sliders  Mast & Harbour     4.0            76   \n",
       "\n",
       "   marked_price  discounted_price                      sizes  \\\n",
       "0          1295               828                    Onesize   \n",
       "1          1299               584  UK6,UK7,UK8,UK9,UK10,UK11   \n",
       "\n",
       "                                        product_link  \\\n",
       "0  wallets/lino-perros/lino-perros-women-peach-co...   \n",
       "1  flip-flops/mast--harbour/mast--harbour-men-nav...   \n",
       "\n",
       "                                            img_link product_tag  \\\n",
       "0  https://assets.myntassets.com/dpr_2,q_60,w_210...     wallets   \n",
       "1  https://assets.myntassets.com/dpr_2,q_60,w_210...  flip-flops   \n",
       "\n",
       "       brand_tag  discount_amount  discount_percent  \n",
       "0    lino-perros              467                36  \n",
       "1  mast--harbour              715                55  "
      ]
     },
     "execution_count": 3,
     "metadata": {},
     "output_type": "execute_result"
    }
   ],
   "source": [
    "fashion.head(2)"
   ]
  },
  {
   "cell_type": "code",
   "execution_count": 4,
   "id": "03448fba",
   "metadata": {},
   "outputs": [
    {
     "name": "stdout",
     "output_type": "stream",
     "text": [
      "<class 'pandas.core.frame.DataFrame'>\n",
      "RangeIndex: 168029 entries, 0 to 168028\n",
      "Data columns (total 13 columns):\n",
      " #   Column            Non-Null Count   Dtype  \n",
      "---  ------            --------------   -----  \n",
      " 0   product_name      168029 non-null  object \n",
      " 1   brand_name        168029 non-null  object \n",
      " 2   rating            168029 non-null  float64\n",
      " 3   rating_count      168029 non-null  int64  \n",
      " 4   marked_price      168029 non-null  int64  \n",
      " 5   discounted_price  168029 non-null  int64  \n",
      " 6   sizes             168029 non-null  object \n",
      " 7   product_link      168029 non-null  object \n",
      " 8   img_link          168029 non-null  object \n",
      " 9   product_tag       168029 non-null  object \n",
      " 10  brand_tag         168029 non-null  object \n",
      " 11  discount_amount   168029 non-null  int64  \n",
      " 12  discount_percent  168029 non-null  int64  \n",
      "dtypes: float64(1), int64(5), object(7)\n",
      "memory usage: 16.7+ MB\n"
     ]
    },
    {
     "data": {
      "text/plain": [
       "(168029, 13)"
      ]
     },
     "execution_count": 4,
     "metadata": {},
     "output_type": "execute_result"
    }
   ],
   "source": [
    "fashion.info()\n",
    "fashion.shape"
   ]
  },
  {
   "cell_type": "code",
   "execution_count": 5,
   "id": "deeaf326",
   "metadata": {},
   "outputs": [
    {
     "data": {
      "text/plain": [
       "product_name        0\n",
       "brand_name          0\n",
       "rating              0\n",
       "rating_count        0\n",
       "marked_price        0\n",
       "discounted_price    0\n",
       "sizes               0\n",
       "product_link        0\n",
       "img_link            0\n",
       "product_tag         0\n",
       "brand_tag           0\n",
       "discount_amount     0\n",
       "discount_percent    0\n",
       "dtype: int64"
      ]
     },
     "execution_count": 5,
     "metadata": {},
     "output_type": "execute_result"
    }
   ],
   "source": [
    "fashion.isnull().sum()"
   ]
  },
  {
   "cell_type": "code",
   "execution_count": 6,
   "id": "3b400bcd",
   "metadata": {},
   "outputs": [
    {
     "data": {
      "text/plain": [
       "122016"
      ]
     },
     "execution_count": 6,
     "metadata": {},
     "output_type": "execute_result"
    }
   ],
   "source": [
    "fashion.duplicated('product_name').sum()"
   ]
  },
  {
   "cell_type": "code",
   "execution_count": 7,
   "id": "3807f071",
   "metadata": {},
   "outputs": [
    {
     "data": {
      "text/html": [
       "<div>\n",
       "<style scoped>\n",
       "    .dataframe tbody tr th:only-of-type {\n",
       "        vertical-align: middle;\n",
       "    }\n",
       "\n",
       "    .dataframe tbody tr th {\n",
       "        vertical-align: top;\n",
       "    }\n",
       "\n",
       "    .dataframe thead th {\n",
       "        text-align: right;\n",
       "    }\n",
       "</style>\n",
       "<table border=\"1\" class=\"dataframe\">\n",
       "  <thead>\n",
       "    <tr style=\"text-align: right;\">\n",
       "      <th></th>\n",
       "      <th>product_name</th>\n",
       "      <th>brand_name</th>\n",
       "      <th>rating</th>\n",
       "      <th>rating_count</th>\n",
       "      <th>marked_price</th>\n",
       "      <th>discounted_price</th>\n",
       "      <th>sizes</th>\n",
       "      <th>product_link</th>\n",
       "      <th>img_link</th>\n",
       "      <th>product_tag</th>\n",
       "      <th>brand_tag</th>\n",
       "      <th>discount_amount</th>\n",
       "      <th>discount_percent</th>\n",
       "    </tr>\n",
       "  </thead>\n",
       "  <tbody>\n",
       "    <tr>\n",
       "      <th>50</th>\n",
       "      <td>Seductive Noir Body Mist 250ml</td>\n",
       "      <td>GUESS</td>\n",
       "      <td>4.2</td>\n",
       "      <td>45</td>\n",
       "      <td>1490</td>\n",
       "      <td>1117</td>\n",
       "      <td>240-260 ML</td>\n",
       "      <td>perfume-and-body-mist/guess/guess-seductive-no...</td>\n",
       "      <td>https://assets.myntassets.com/dpr_2,q_60,w_210...</td>\n",
       "      <td>perfume-and-body-mist</td>\n",
       "      <td>guess</td>\n",
       "      <td>373</td>\n",
       "      <td>25</td>\n",
       "    </tr>\n",
       "    <tr>\n",
       "      <th>51</th>\n",
       "      <td>Stunning Blue Solid Saree With Embellished Border</td>\n",
       "      <td>Tikhi Imli</td>\n",
       "      <td>4.1</td>\n",
       "      <td>244</td>\n",
       "      <td>2398</td>\n",
       "      <td>1294</td>\n",
       "      <td>Onesize</td>\n",
       "      <td>sarees/tikhi-imli/tikhi-imli-solid-poly-crepe-...</td>\n",
       "      <td>https://assets.myntassets.com/dpr_2,q_60,w_210...</td>\n",
       "      <td>sarees</td>\n",
       "      <td>tikhi-imli</td>\n",
       "      <td>1104</td>\n",
       "      <td>46</td>\n",
       "    </tr>\n",
       "    <tr>\n",
       "      <th>52</th>\n",
       "      <td>Printed Anarkali Kurta</td>\n",
       "      <td>Soch</td>\n",
       "      <td>4.3</td>\n",
       "      <td>6</td>\n",
       "      <td>2998</td>\n",
       "      <td>2248</td>\n",
       "      <td>S,M,L,XL,XXL</td>\n",
       "      <td>kurtas/soch/soch-women-multicoloured-ethnic-mo...</td>\n",
       "      <td>https://assets.myntassets.com/dpr_2,q_60,w_210...</td>\n",
       "      <td>kurtas</td>\n",
       "      <td>soch</td>\n",
       "      <td>750</td>\n",
       "      <td>25</td>\n",
       "    </tr>\n",
       "    <tr>\n",
       "      <th>53</th>\n",
       "      <td>Women Regular Fit Denim Shorts</td>\n",
       "      <td>Roadster</td>\n",
       "      <td>4.3</td>\n",
       "      <td>516</td>\n",
       "      <td>1499</td>\n",
       "      <td>749</td>\n",
       "      <td>26,28,30,32,34,36</td>\n",
       "      <td>shorts/roadster/the-roadster-lifestyle-co-wome...</td>\n",
       "      <td>https://assets.myntassets.com/dpr_2,q_60,w_210...</td>\n",
       "      <td>shorts</td>\n",
       "      <td>roadster</td>\n",
       "      <td>750</td>\n",
       "      <td>50</td>\n",
       "    </tr>\n",
       "    <tr>\n",
       "      <th>54</th>\n",
       "      <td>Pure Cotton Printed Sweatshirt</td>\n",
       "      <td>Mast &amp; Harbour</td>\n",
       "      <td>3.8</td>\n",
       "      <td>111</td>\n",
       "      <td>1799</td>\n",
       "      <td>629</td>\n",
       "      <td>S,M,L,XL</td>\n",
       "      <td>sweatshirts/mast--harbour/mast--harbour-women-...</td>\n",
       "      <td>https://assets.myntassets.com/dpr_2,q_60,w_210...</td>\n",
       "      <td>sweatshirts</td>\n",
       "      <td>mast--harbour</td>\n",
       "      <td>1170</td>\n",
       "      <td>65</td>\n",
       "    </tr>\n",
       "    <tr>\n",
       "      <th>...</th>\n",
       "      <td>...</td>\n",
       "      <td>...</td>\n",
       "      <td>...</td>\n",
       "      <td>...</td>\n",
       "      <td>...</td>\n",
       "      <td>...</td>\n",
       "      <td>...</td>\n",
       "      <td>...</td>\n",
       "      <td>...</td>\n",
       "      <td>...</td>\n",
       "      <td>...</td>\n",
       "      <td>...</td>\n",
       "      <td>...</td>\n",
       "    </tr>\n",
       "    <tr>\n",
       "      <th>168024</th>\n",
       "      <td>Ethnic Motifs Kaftan Dress</td>\n",
       "      <td>Soch</td>\n",
       "      <td>0.0</td>\n",
       "      <td>0</td>\n",
       "      <td>3998</td>\n",
       "      <td>3998</td>\n",
       "      <td>S/M,L/XL</td>\n",
       "      <td>dresses/soch/soch-blue-ethnic-motifs-kaftan-dr...</td>\n",
       "      <td>https://assets.myntassets.com/dpr_2,q_60,w_210...</td>\n",
       "      <td>dresses</td>\n",
       "      <td>soch</td>\n",
       "      <td>0</td>\n",
       "      <td>0</td>\n",
       "    </tr>\n",
       "    <tr>\n",
       "      <th>168025</th>\n",
       "      <td>Leather Wedge Sandals with Tassels</td>\n",
       "      <td>fitflop</td>\n",
       "      <td>0.0</td>\n",
       "      <td>0</td>\n",
       "      <td>6799</td>\n",
       "      <td>6799</td>\n",
       "      <td>EURO36,EURO37,EURO38,EURO39,EURO40</td>\n",
       "      <td>heels/fitflop/fitflop-tan-leather-wedge-sandal...</td>\n",
       "      <td>https://assets.myntassets.com/dpr_2,q_60,w_210...</td>\n",
       "      <td>heels</td>\n",
       "      <td>fitflop</td>\n",
       "      <td>0</td>\n",
       "      <td>0</td>\n",
       "    </tr>\n",
       "    <tr>\n",
       "      <th>168026</th>\n",
       "      <td>Leather Wedge Pumps</td>\n",
       "      <td>fitflop</td>\n",
       "      <td>0.0</td>\n",
       "      <td>0</td>\n",
       "      <td>5999</td>\n",
       "      <td>5999</td>\n",
       "      <td>EURO36,EURO37,EURO38,EURO39,EURO40</td>\n",
       "      <td>heels/fitflop/fitflop-blue-leather-wedge-pumps...</td>\n",
       "      <td>https://assets.myntassets.com/dpr_2,q_60,w_210...</td>\n",
       "      <td>heels</td>\n",
       "      <td>fitflop</td>\n",
       "      <td>0</td>\n",
       "      <td>0</td>\n",
       "    </tr>\n",
       "    <tr>\n",
       "      <th>168027</th>\n",
       "      <td>V015 Professional Hair Trimmer</td>\n",
       "      <td>VGR</td>\n",
       "      <td>0.0</td>\n",
       "      <td>0</td>\n",
       "      <td>2695</td>\n",
       "      <td>995</td>\n",
       "      <td>Onesize</td>\n",
       "      <td>trimmer/vgr/vgr-men-v-015-professional-hair-tr...</td>\n",
       "      <td>https://assets.myntassets.com/dpr_2,q_60,w_210...</td>\n",
       "      <td>trimmer</td>\n",
       "      <td>vgr</td>\n",
       "      <td>1700</td>\n",
       "      <td>63</td>\n",
       "    </tr>\n",
       "    <tr>\n",
       "      <th>168028</th>\n",
       "      <td>Women Open Toe Flats</td>\n",
       "      <td>daisie</td>\n",
       "      <td>0.0</td>\n",
       "      <td>0</td>\n",
       "      <td>1450</td>\n",
       "      <td>1377</td>\n",
       "      <td>EURO36,EURO37,EURO38,EURO39,EURO40,EURO41</td>\n",
       "      <td>flats/daisie/daisie-women-grey-printed-open-to...</td>\n",
       "      <td>https://assets.myntassets.com/dpr_2,q_60,w_210...</td>\n",
       "      <td>flats</td>\n",
       "      <td>daisie</td>\n",
       "      <td>73</td>\n",
       "      <td>5</td>\n",
       "    </tr>\n",
       "  </tbody>\n",
       "</table>\n",
       "<p>122016 rows × 13 columns</p>\n",
       "</div>"
      ],
      "text/plain": [
       "                                             product_name      brand_name  \\\n",
       "50                         Seductive Noir Body Mist 250ml           GUESS   \n",
       "51      Stunning Blue Solid Saree With Embellished Border      Tikhi Imli   \n",
       "52                                 Printed Anarkali Kurta            Soch   \n",
       "53                         Women Regular Fit Denim Shorts        Roadster   \n",
       "54                         Pure Cotton Printed Sweatshirt  Mast & Harbour   \n",
       "...                                                   ...             ...   \n",
       "168024                         Ethnic Motifs Kaftan Dress            Soch   \n",
       "168025                 Leather Wedge Sandals with Tassels         fitflop   \n",
       "168026                                Leather Wedge Pumps         fitflop   \n",
       "168027                     V015 Professional Hair Trimmer             VGR   \n",
       "168028                               Women Open Toe Flats          daisie   \n",
       "\n",
       "        rating  rating_count  marked_price  discounted_price  \\\n",
       "50         4.2            45          1490              1117   \n",
       "51         4.1           244          2398              1294   \n",
       "52         4.3             6          2998              2248   \n",
       "53         4.3           516          1499               749   \n",
       "54         3.8           111          1799               629   \n",
       "...        ...           ...           ...               ...   \n",
       "168024     0.0             0          3998              3998   \n",
       "168025     0.0             0          6799              6799   \n",
       "168026     0.0             0          5999              5999   \n",
       "168027     0.0             0          2695               995   \n",
       "168028     0.0             0          1450              1377   \n",
       "\n",
       "                                            sizes  \\\n",
       "50                                     240-260 ML   \n",
       "51                                        Onesize   \n",
       "52                                   S,M,L,XL,XXL   \n",
       "53                              26,28,30,32,34,36   \n",
       "54                                       S,M,L,XL   \n",
       "...                                           ...   \n",
       "168024                                   S/M,L/XL   \n",
       "168025         EURO36,EURO37,EURO38,EURO39,EURO40   \n",
       "168026         EURO36,EURO37,EURO38,EURO39,EURO40   \n",
       "168027                                    Onesize   \n",
       "168028  EURO36,EURO37,EURO38,EURO39,EURO40,EURO41   \n",
       "\n",
       "                                             product_link  \\\n",
       "50      perfume-and-body-mist/guess/guess-seductive-no...   \n",
       "51      sarees/tikhi-imli/tikhi-imli-solid-poly-crepe-...   \n",
       "52      kurtas/soch/soch-women-multicoloured-ethnic-mo...   \n",
       "53      shorts/roadster/the-roadster-lifestyle-co-wome...   \n",
       "54      sweatshirts/mast--harbour/mast--harbour-women-...   \n",
       "...                                                   ...   \n",
       "168024  dresses/soch/soch-blue-ethnic-motifs-kaftan-dr...   \n",
       "168025  heels/fitflop/fitflop-tan-leather-wedge-sandal...   \n",
       "168026  heels/fitflop/fitflop-blue-leather-wedge-pumps...   \n",
       "168027  trimmer/vgr/vgr-men-v-015-professional-hair-tr...   \n",
       "168028  flats/daisie/daisie-women-grey-printed-open-to...   \n",
       "\n",
       "                                                 img_link  \\\n",
       "50      https://assets.myntassets.com/dpr_2,q_60,w_210...   \n",
       "51      https://assets.myntassets.com/dpr_2,q_60,w_210...   \n",
       "52      https://assets.myntassets.com/dpr_2,q_60,w_210...   \n",
       "53      https://assets.myntassets.com/dpr_2,q_60,w_210...   \n",
       "54      https://assets.myntassets.com/dpr_2,q_60,w_210...   \n",
       "...                                                   ...   \n",
       "168024  https://assets.myntassets.com/dpr_2,q_60,w_210...   \n",
       "168025  https://assets.myntassets.com/dpr_2,q_60,w_210...   \n",
       "168026  https://assets.myntassets.com/dpr_2,q_60,w_210...   \n",
       "168027  https://assets.myntassets.com/dpr_2,q_60,w_210...   \n",
       "168028  https://assets.myntassets.com/dpr_2,q_60,w_210...   \n",
       "\n",
       "                  product_tag      brand_tag  discount_amount  \\\n",
       "50      perfume-and-body-mist          guess              373   \n",
       "51                     sarees     tikhi-imli             1104   \n",
       "52                     kurtas           soch              750   \n",
       "53                     shorts       roadster              750   \n",
       "54                sweatshirts  mast--harbour             1170   \n",
       "...                       ...            ...              ...   \n",
       "168024                dresses           soch                0   \n",
       "168025                  heels        fitflop                0   \n",
       "168026                  heels        fitflop                0   \n",
       "168027                trimmer            vgr             1700   \n",
       "168028                  flats         daisie               73   \n",
       "\n",
       "        discount_percent  \n",
       "50                    25  \n",
       "51                    46  \n",
       "52                    25  \n",
       "53                    50  \n",
       "54                    65  \n",
       "...                  ...  \n",
       "168024                 0  \n",
       "168025                 0  \n",
       "168026                 0  \n",
       "168027                63  \n",
       "168028                 5  \n",
       "\n",
       "[122016 rows x 13 columns]"
      ]
     },
     "execution_count": 7,
     "metadata": {},
     "output_type": "execute_result"
    }
   ],
   "source": [
    "duplicate_rows = fashion[fashion.duplicated('product_name')]\n",
    "duplicate_rows\n",
    "fashion.drop_duplicates(subset=['product_name'],inplace=True)\n",
    "duplicate_rows"
   ]
  },
  {
   "cell_type": "code",
   "execution_count": 8,
   "id": "213b0d99",
   "metadata": {},
   "outputs": [
    {
     "data": {
      "text/plain": [
       "(46013, 13)"
      ]
     },
     "execution_count": 8,
     "metadata": {},
     "output_type": "execute_result"
    }
   ],
   "source": [
    "fashion.shape"
   ]
  },
  {
   "cell_type": "code",
   "execution_count": 9,
   "id": "09d6d356",
   "metadata": {},
   "outputs": [
    {
     "data": {
      "text/html": [
       "<div>\n",
       "<style scoped>\n",
       "    .dataframe tbody tr th:only-of-type {\n",
       "        vertical-align: middle;\n",
       "    }\n",
       "\n",
       "    .dataframe tbody tr th {\n",
       "        vertical-align: top;\n",
       "    }\n",
       "\n",
       "    .dataframe thead th {\n",
       "        text-align: right;\n",
       "    }\n",
       "</style>\n",
       "<table border=\"1\" class=\"dataframe\">\n",
       "  <thead>\n",
       "    <tr style=\"text-align: right;\">\n",
       "      <th></th>\n",
       "      <th>product_name</th>\n",
       "      <th>brand_name</th>\n",
       "      <th>rating</th>\n",
       "      <th>rating_count</th>\n",
       "      <th>marked_price</th>\n",
       "      <th>discounted_price</th>\n",
       "      <th>sizes</th>\n",
       "      <th>product_link</th>\n",
       "      <th>img_link</th>\n",
       "      <th>product_tag</th>\n",
       "      <th>brand_tag</th>\n",
       "      <th>discount_amount</th>\n",
       "      <th>discount_percent</th>\n",
       "    </tr>\n",
       "  </thead>\n",
       "  <tbody>\n",
       "    <tr>\n",
       "      <th>0</th>\n",
       "      <td>Croc Textured Two Fold Wallet</td>\n",
       "      <td>Lino Perros</td>\n",
       "      <td>0.0</td>\n",
       "      <td>0</td>\n",
       "      <td>1295</td>\n",
       "      <td>828</td>\n",
       "      <td>Onesize</td>\n",
       "      <td>wallets/lino-perros/lino-perros-women-peach-co...</td>\n",
       "      <td>https://assets.myntassets.com/dpr_2,q_60,w_210...</td>\n",
       "      <td>wallets</td>\n",
       "      <td>lino-perros</td>\n",
       "      <td>467</td>\n",
       "      <td>36</td>\n",
       "    </tr>\n",
       "    <tr>\n",
       "      <th>1</th>\n",
       "      <td>Men Striped Sliders</td>\n",
       "      <td>Mast &amp; Harbour</td>\n",
       "      <td>4.0</td>\n",
       "      <td>76</td>\n",
       "      <td>1299</td>\n",
       "      <td>584</td>\n",
       "      <td>UK6,UK7,UK8,UK9,UK10,UK11</td>\n",
       "      <td>flip-flops/mast--harbour/mast--harbour-men-nav...</td>\n",
       "      <td>https://assets.myntassets.com/dpr_2,q_60,w_210...</td>\n",
       "      <td>flip-flops</td>\n",
       "      <td>mast--harbour</td>\n",
       "      <td>715</td>\n",
       "      <td>55</td>\n",
       "    </tr>\n",
       "    <tr>\n",
       "      <th>2</th>\n",
       "      <td>Printed A-line Kurta</td>\n",
       "      <td>Biba</td>\n",
       "      <td>4.3</td>\n",
       "      <td>66</td>\n",
       "      <td>1999</td>\n",
       "      <td>1599</td>\n",
       "      <td>S,M,L,XL,XXL,3XL</td>\n",
       "      <td>kurtas/biba/biba-women-off-white--black-printe...</td>\n",
       "      <td>https://assets.myntassets.com/dpr_2,q_60,w_210...</td>\n",
       "      <td>kurtas</td>\n",
       "      <td>biba</td>\n",
       "      <td>400</td>\n",
       "      <td>20</td>\n",
       "    </tr>\n",
       "  </tbody>\n",
       "</table>\n",
       "</div>"
      ],
      "text/plain": [
       "                    product_name      brand_name  rating  rating_count  \\\n",
       "0  Croc Textured Two Fold Wallet     Lino Perros     0.0             0   \n",
       "1            Men Striped Sliders  Mast & Harbour     4.0            76   \n",
       "2           Printed A-line Kurta            Biba     4.3            66   \n",
       "\n",
       "   marked_price  discounted_price                      sizes  \\\n",
       "0          1295               828                    Onesize   \n",
       "1          1299               584  UK6,UK7,UK8,UK9,UK10,UK11   \n",
       "2          1999              1599           S,M,L,XL,XXL,3XL   \n",
       "\n",
       "                                        product_link  \\\n",
       "0  wallets/lino-perros/lino-perros-women-peach-co...   \n",
       "1  flip-flops/mast--harbour/mast--harbour-men-nav...   \n",
       "2  kurtas/biba/biba-women-off-white--black-printe...   \n",
       "\n",
       "                                            img_link product_tag  \\\n",
       "0  https://assets.myntassets.com/dpr_2,q_60,w_210...     wallets   \n",
       "1  https://assets.myntassets.com/dpr_2,q_60,w_210...  flip-flops   \n",
       "2  https://assets.myntassets.com/dpr_2,q_60,w_210...      kurtas   \n",
       "\n",
       "       brand_tag  discount_amount  discount_percent  \n",
       "0    lino-perros              467                36  \n",
       "1  mast--harbour              715                55  \n",
       "2           biba              400                20  "
      ]
     },
     "execution_count": 9,
     "metadata": {},
     "output_type": "execute_result"
    }
   ],
   "source": [
    "fashion.head(3)"
   ]
  },
  {
   "cell_type": "code",
   "execution_count": 10,
   "id": "b2f0ff9a",
   "metadata": {},
   "outputs": [
    {
     "name": "stdout",
     "output_type": "stream",
     "text": [
      "<class 'pandas.core.frame.DataFrame'>\n",
      "Int64Index: 46013 entries, 0 to 167991\n",
      "Data columns (total 13 columns):\n",
      " #   Column            Non-Null Count  Dtype  \n",
      "---  ------            --------------  -----  \n",
      " 0   product_name      46013 non-null  object \n",
      " 1   brand_name        46013 non-null  object \n",
      " 2   rating            46013 non-null  float64\n",
      " 3   rating_count      46013 non-null  int64  \n",
      " 4   marked_price      46013 non-null  int64  \n",
      " 5   discounted_price  46013 non-null  int64  \n",
      " 6   sizes             46013 non-null  object \n",
      " 7   product_link      46013 non-null  object \n",
      " 8   img_link          46013 non-null  object \n",
      " 9   product_tag       46013 non-null  object \n",
      " 10  brand_tag         46013 non-null  object \n",
      " 11  discount_amount   46013 non-null  int64  \n",
      " 12  discount_percent  46013 non-null  int64  \n",
      "dtypes: float64(1), int64(5), object(7)\n",
      "memory usage: 4.9+ MB\n"
     ]
    }
   ],
   "source": [
    "fashion.info()"
   ]
  },
  {
   "cell_type": "code",
   "execution_count": 11,
   "id": "37469c3c",
   "metadata": {},
   "outputs": [],
   "source": [
    "fashion = fashion[['product_name', 'brand_name', 'product_tag', 'brand_tag', 'img_link', 'product_link']]\n"
   ]
  },
  {
   "cell_type": "code",
   "execution_count": 12,
   "id": "707a6e3f",
   "metadata": {},
   "outputs": [
    {
     "data": {
      "text/html": [
       "<div>\n",
       "<style scoped>\n",
       "    .dataframe tbody tr th:only-of-type {\n",
       "        vertical-align: middle;\n",
       "    }\n",
       "\n",
       "    .dataframe tbody tr th {\n",
       "        vertical-align: top;\n",
       "    }\n",
       "\n",
       "    .dataframe thead th {\n",
       "        text-align: right;\n",
       "    }\n",
       "</style>\n",
       "<table border=\"1\" class=\"dataframe\">\n",
       "  <thead>\n",
       "    <tr style=\"text-align: right;\">\n",
       "      <th></th>\n",
       "      <th>product_name</th>\n",
       "      <th>brand_name</th>\n",
       "      <th>product_tag</th>\n",
       "      <th>brand_tag</th>\n",
       "      <th>img_link</th>\n",
       "      <th>product_link</th>\n",
       "    </tr>\n",
       "  </thead>\n",
       "  <tbody>\n",
       "    <tr>\n",
       "      <th>0</th>\n",
       "      <td>Croc Textured Two Fold Wallet</td>\n",
       "      <td>Lino Perros</td>\n",
       "      <td>wallets</td>\n",
       "      <td>lino-perros</td>\n",
       "      <td>https://assets.myntassets.com/dpr_2,q_60,w_210...</td>\n",
       "      <td>wallets/lino-perros/lino-perros-women-peach-co...</td>\n",
       "    </tr>\n",
       "    <tr>\n",
       "      <th>1</th>\n",
       "      <td>Men Striped Sliders</td>\n",
       "      <td>Mast &amp; Harbour</td>\n",
       "      <td>flip-flops</td>\n",
       "      <td>mast--harbour</td>\n",
       "      <td>https://assets.myntassets.com/dpr_2,q_60,w_210...</td>\n",
       "      <td>flip-flops/mast--harbour/mast--harbour-men-nav...</td>\n",
       "    </tr>\n",
       "  </tbody>\n",
       "</table>\n",
       "</div>"
      ],
      "text/plain": [
       "                    product_name      brand_name product_tag      brand_tag  \\\n",
       "0  Croc Textured Two Fold Wallet     Lino Perros     wallets    lino-perros   \n",
       "1            Men Striped Sliders  Mast & Harbour  flip-flops  mast--harbour   \n",
       "\n",
       "                                            img_link  \\\n",
       "0  https://assets.myntassets.com/dpr_2,q_60,w_210...   \n",
       "1  https://assets.myntassets.com/dpr_2,q_60,w_210...   \n",
       "\n",
       "                                        product_link  \n",
       "0  wallets/lino-perros/lino-perros-women-peach-co...  \n",
       "1  flip-flops/mast--harbour/mast--harbour-men-nav...  "
      ]
     },
     "execution_count": 12,
     "metadata": {},
     "output_type": "execute_result"
    }
   ],
   "source": [
    "fashion.head(2)"
   ]
  },
  {
   "cell_type": "code",
   "execution_count": 13,
   "id": "3229e5eb",
   "metadata": {},
   "outputs": [
    {
     "data": {
      "text/html": [
       "<div>\n",
       "<style scoped>\n",
       "    .dataframe tbody tr th:only-of-type {\n",
       "        vertical-align: middle;\n",
       "    }\n",
       "\n",
       "    .dataframe tbody tr th {\n",
       "        vertical-align: top;\n",
       "    }\n",
       "\n",
       "    .dataframe thead th {\n",
       "        text-align: right;\n",
       "    }\n",
       "</style>\n",
       "<table border=\"1\" class=\"dataframe\">\n",
       "  <thead>\n",
       "    <tr style=\"text-align: right;\">\n",
       "      <th></th>\n",
       "      <th>product_name</th>\n",
       "      <th>brand_name</th>\n",
       "      <th>product_tag</th>\n",
       "      <th>brand_tag</th>\n",
       "      <th>img_link</th>\n",
       "      <th>product_link</th>\n",
       "    </tr>\n",
       "  </thead>\n",
       "  <tbody>\n",
       "    <tr>\n",
       "      <th>0</th>\n",
       "      <td>Croc Textured Two Fold Wallet</td>\n",
       "      <td>Lino Perros</td>\n",
       "      <td>wallets</td>\n",
       "      <td>lino-perros</td>\n",
       "      <td>https://assets.myntassets.com/dpr_2,q_60,w_210...</td>\n",
       "      <td>wallets/lino-perros/lino-perros-women-peach-co...</td>\n",
       "    </tr>\n",
       "    <tr>\n",
       "      <th>1</th>\n",
       "      <td>Men Striped Sliders</td>\n",
       "      <td>Mast &amp; Harbour</td>\n",
       "      <td>flip-flops</td>\n",
       "      <td>mast--harbour</td>\n",
       "      <td>https://assets.myntassets.com/dpr_2,q_60,w_210...</td>\n",
       "      <td>flip-flops/mast--harbour/mast--harbour-men-nav...</td>\n",
       "    </tr>\n",
       "  </tbody>\n",
       "</table>\n",
       "</div>"
      ],
      "text/plain": [
       "                    product_name      brand_name product_tag      brand_tag  \\\n",
       "0  Croc Textured Two Fold Wallet     Lino Perros     wallets    lino-perros   \n",
       "1            Men Striped Sliders  Mast & Harbour  flip-flops  mast--harbour   \n",
       "\n",
       "                                            img_link  \\\n",
       "0  https://assets.myntassets.com/dpr_2,q_60,w_210...   \n",
       "1  https://assets.myntassets.com/dpr_2,q_60,w_210...   \n",
       "\n",
       "                                        product_link  \n",
       "0  wallets/lino-perros/lino-perros-women-peach-co...  \n",
       "1  flip-flops/mast--harbour/mast--harbour-men-nav...  "
      ]
     },
     "execution_count": 13,
     "metadata": {},
     "output_type": "execute_result"
    }
   ],
   "source": [
    "fashion.head(2)"
   ]
  },
  {
   "cell_type": "code",
   "execution_count": 14,
   "id": "424d8e26",
   "metadata": {},
   "outputs": [],
   "source": [
    "fashion['brand_name'].apply(lambda x:x.split())\n",
    "fashion['brand_name']=fashion['brand_name'].apply(lambda x:x.split())"
   ]
  },
  {
   "cell_type": "code",
   "execution_count": 15,
   "id": "b91673af",
   "metadata": {},
   "outputs": [],
   "source": [
    "fashion['product_tag'].apply(lambda x:x.split())\n",
    "fashion['product_tag']=fashion['product_tag'].apply(lambda x:x.split())"
   ]
  },
  {
   "cell_type": "code",
   "execution_count": 16,
   "id": "9e4bb11e",
   "metadata": {},
   "outputs": [],
   "source": [
    "fashion['brand_tag'].apply(lambda x:x.split())\n",
    "fashion['brand_tag']=fashion['brand_tag'].apply(lambda x:x.split())"
   ]
  },
  {
   "cell_type": "code",
   "execution_count": 17,
   "id": "f60d96d5",
   "metadata": {},
   "outputs": [
    {
     "data": {
      "text/html": [
       "<div>\n",
       "<style scoped>\n",
       "    .dataframe tbody tr th:only-of-type {\n",
       "        vertical-align: middle;\n",
       "    }\n",
       "\n",
       "    .dataframe tbody tr th {\n",
       "        vertical-align: top;\n",
       "    }\n",
       "\n",
       "    .dataframe thead th {\n",
       "        text-align: right;\n",
       "    }\n",
       "</style>\n",
       "<table border=\"1\" class=\"dataframe\">\n",
       "  <thead>\n",
       "    <tr style=\"text-align: right;\">\n",
       "      <th></th>\n",
       "      <th>product_name</th>\n",
       "      <th>brand_name</th>\n",
       "      <th>product_tag</th>\n",
       "      <th>brand_tag</th>\n",
       "      <th>img_link</th>\n",
       "      <th>product_link</th>\n",
       "    </tr>\n",
       "  </thead>\n",
       "  <tbody>\n",
       "    <tr>\n",
       "      <th>0</th>\n",
       "      <td>Croc Textured Two Fold Wallet</td>\n",
       "      <td>[Lino, Perros]</td>\n",
       "      <td>[wallets]</td>\n",
       "      <td>[lino-perros]</td>\n",
       "      <td>https://assets.myntassets.com/dpr_2,q_60,w_210...</td>\n",
       "      <td>wallets/lino-perros/lino-perros-women-peach-co...</td>\n",
       "    </tr>\n",
       "    <tr>\n",
       "      <th>1</th>\n",
       "      <td>Men Striped Sliders</td>\n",
       "      <td>[Mast, &amp;, Harbour]</td>\n",
       "      <td>[flip-flops]</td>\n",
       "      <td>[mast--harbour]</td>\n",
       "      <td>https://assets.myntassets.com/dpr_2,q_60,w_210...</td>\n",
       "      <td>flip-flops/mast--harbour/mast--harbour-men-nav...</td>\n",
       "    </tr>\n",
       "  </tbody>\n",
       "</table>\n",
       "</div>"
      ],
      "text/plain": [
       "                    product_name          brand_name   product_tag  \\\n",
       "0  Croc Textured Two Fold Wallet      [Lino, Perros]     [wallets]   \n",
       "1            Men Striped Sliders  [Mast, &, Harbour]  [flip-flops]   \n",
       "\n",
       "         brand_tag                                           img_link  \\\n",
       "0    [lino-perros]  https://assets.myntassets.com/dpr_2,q_60,w_210...   \n",
       "1  [mast--harbour]  https://assets.myntassets.com/dpr_2,q_60,w_210...   \n",
       "\n",
       "                                        product_link  \n",
       "0  wallets/lino-perros/lino-perros-women-peach-co...  \n",
       "1  flip-flops/mast--harbour/mast--harbour-men-nav...  "
      ]
     },
     "execution_count": 17,
     "metadata": {},
     "output_type": "execute_result"
    }
   ],
   "source": [
    "fashion.head(2)"
   ]
  },
  {
   "cell_type": "code",
   "execution_count": 18,
   "id": "96cb7f49",
   "metadata": {},
   "outputs": [],
   "source": [
    "fashion['product_tag']=fashion['product_tag'].apply(lambda x:[i.replace(\" \",\"\") for i in x])"
   ]
  },
  {
   "cell_type": "code",
   "execution_count": 19,
   "id": "401aa73f",
   "metadata": {},
   "outputs": [],
   "source": [
    "fashion['brand_name']=fashion['brand_name'].apply(lambda x:[i.replace(\" \",\"\") for i in x])"
   ]
  },
  {
   "cell_type": "code",
   "execution_count": 20,
   "id": "9b2ae359",
   "metadata": {},
   "outputs": [],
   "source": [
    "fashion['brand_tag']=fashion['brand_tag'].apply(lambda x:[i.replace(\" \",\"\") for i in x])"
   ]
  },
  {
   "cell_type": "code",
   "execution_count": 21,
   "id": "240c4ebd",
   "metadata": {},
   "outputs": [
    {
     "data": {
      "text/html": [
       "<div>\n",
       "<style scoped>\n",
       "    .dataframe tbody tr th:only-of-type {\n",
       "        vertical-align: middle;\n",
       "    }\n",
       "\n",
       "    .dataframe tbody tr th {\n",
       "        vertical-align: top;\n",
       "    }\n",
       "\n",
       "    .dataframe thead th {\n",
       "        text-align: right;\n",
       "    }\n",
       "</style>\n",
       "<table border=\"1\" class=\"dataframe\">\n",
       "  <thead>\n",
       "    <tr style=\"text-align: right;\">\n",
       "      <th></th>\n",
       "      <th>product_name</th>\n",
       "      <th>brand_name</th>\n",
       "      <th>product_tag</th>\n",
       "      <th>brand_tag</th>\n",
       "      <th>img_link</th>\n",
       "      <th>product_link</th>\n",
       "    </tr>\n",
       "  </thead>\n",
       "  <tbody>\n",
       "    <tr>\n",
       "      <th>0</th>\n",
       "      <td>Croc Textured Two Fold Wallet</td>\n",
       "      <td>[Lino, Perros]</td>\n",
       "      <td>[wallets]</td>\n",
       "      <td>[lino-perros]</td>\n",
       "      <td>https://assets.myntassets.com/dpr_2,q_60,w_210...</td>\n",
       "      <td>wallets/lino-perros/lino-perros-women-peach-co...</td>\n",
       "    </tr>\n",
       "    <tr>\n",
       "      <th>1</th>\n",
       "      <td>Men Striped Sliders</td>\n",
       "      <td>[Mast, &amp;, Harbour]</td>\n",
       "      <td>[flip-flops]</td>\n",
       "      <td>[mast--harbour]</td>\n",
       "      <td>https://assets.myntassets.com/dpr_2,q_60,w_210...</td>\n",
       "      <td>flip-flops/mast--harbour/mast--harbour-men-nav...</td>\n",
       "    </tr>\n",
       "    <tr>\n",
       "      <th>2</th>\n",
       "      <td>Printed A-line Kurta</td>\n",
       "      <td>[Biba]</td>\n",
       "      <td>[kurtas]</td>\n",
       "      <td>[biba]</td>\n",
       "      <td>https://assets.myntassets.com/dpr_2,q_60,w_210...</td>\n",
       "      <td>kurtas/biba/biba-women-off-white--black-printe...</td>\n",
       "    </tr>\n",
       "    <tr>\n",
       "      <th>3</th>\n",
       "      <td>Girls Floral Printed T-shirt</td>\n",
       "      <td>[Anthrilo]</td>\n",
       "      <td>[tshirts]</td>\n",
       "      <td>[anthrilo]</td>\n",
       "      <td>https://assets.myntassets.com/dpr_2,q_60,w_210...</td>\n",
       "      <td>tshirts/anthrilo/anthrilo-girls-white-floral-p...</td>\n",
       "    </tr>\n",
       "  </tbody>\n",
       "</table>\n",
       "</div>"
      ],
      "text/plain": [
       "                    product_name          brand_name   product_tag  \\\n",
       "0  Croc Textured Two Fold Wallet      [Lino, Perros]     [wallets]   \n",
       "1            Men Striped Sliders  [Mast, &, Harbour]  [flip-flops]   \n",
       "2           Printed A-line Kurta              [Biba]      [kurtas]   \n",
       "3   Girls Floral Printed T-shirt          [Anthrilo]     [tshirts]   \n",
       "\n",
       "         brand_tag                                           img_link  \\\n",
       "0    [lino-perros]  https://assets.myntassets.com/dpr_2,q_60,w_210...   \n",
       "1  [mast--harbour]  https://assets.myntassets.com/dpr_2,q_60,w_210...   \n",
       "2           [biba]  https://assets.myntassets.com/dpr_2,q_60,w_210...   \n",
       "3       [anthrilo]  https://assets.myntassets.com/dpr_2,q_60,w_210...   \n",
       "\n",
       "                                        product_link  \n",
       "0  wallets/lino-perros/lino-perros-women-peach-co...  \n",
       "1  flip-flops/mast--harbour/mast--harbour-men-nav...  \n",
       "2  kurtas/biba/biba-women-off-white--black-printe...  \n",
       "3  tshirts/anthrilo/anthrilo-girls-white-floral-p...  "
      ]
     },
     "execution_count": 21,
     "metadata": {},
     "output_type": "execute_result"
    }
   ],
   "source": [
    "fashion.head(4)"
   ]
  },
  {
   "cell_type": "code",
   "execution_count": 22,
   "id": "9919912f",
   "metadata": {},
   "outputs": [],
   "source": [
    "fashion['tags']=fashion['product_tag']+fashion['brand_name']+fashion['brand_tag']"
   ]
  },
  {
   "cell_type": "code",
   "execution_count": 23,
   "id": "3bfba29e",
   "metadata": {},
   "outputs": [
    {
     "data": {
      "text/plain": [
       "['tops', 'H&M', 'hm']"
      ]
     },
     "execution_count": 23,
     "metadata": {},
     "output_type": "execute_result"
    }
   ],
   "source": [
    "fashion.tags[9]"
   ]
  },
  {
   "cell_type": "code",
   "execution_count": 24,
   "id": "02e209d8",
   "metadata": {},
   "outputs": [],
   "source": [
    "new_df = fashion[['product_name','img_link','product_link','tags']]"
   ]
  },
  {
   "cell_type": "code",
   "execution_count": 25,
   "id": "6edd6dd2",
   "metadata": {},
   "outputs": [
    {
     "data": {
      "text/html": [
       "<div>\n",
       "<style scoped>\n",
       "    .dataframe tbody tr th:only-of-type {\n",
       "        vertical-align: middle;\n",
       "    }\n",
       "\n",
       "    .dataframe tbody tr th {\n",
       "        vertical-align: top;\n",
       "    }\n",
       "\n",
       "    .dataframe thead th {\n",
       "        text-align: right;\n",
       "    }\n",
       "</style>\n",
       "<table border=\"1\" class=\"dataframe\">\n",
       "  <thead>\n",
       "    <tr style=\"text-align: right;\">\n",
       "      <th></th>\n",
       "      <th>product_name</th>\n",
       "      <th>img_link</th>\n",
       "      <th>product_link</th>\n",
       "      <th>tags</th>\n",
       "    </tr>\n",
       "  </thead>\n",
       "  <tbody>\n",
       "    <tr>\n",
       "      <th>0</th>\n",
       "      <td>Croc Textured Two Fold Wallet</td>\n",
       "      <td>https://assets.myntassets.com/dpr_2,q_60,w_210...</td>\n",
       "      <td>wallets/lino-perros/lino-perros-women-peach-co...</td>\n",
       "      <td>[wallets, Lino, Perros, lino-perros]</td>\n",
       "    </tr>\n",
       "    <tr>\n",
       "      <th>1</th>\n",
       "      <td>Men Striped Sliders</td>\n",
       "      <td>https://assets.myntassets.com/dpr_2,q_60,w_210...</td>\n",
       "      <td>flip-flops/mast--harbour/mast--harbour-men-nav...</td>\n",
       "      <td>[flip-flops, Mast, &amp;, Harbour, mast--harbour]</td>\n",
       "    </tr>\n",
       "    <tr>\n",
       "      <th>2</th>\n",
       "      <td>Printed A-line Kurta</td>\n",
       "      <td>https://assets.myntassets.com/dpr_2,q_60,w_210...</td>\n",
       "      <td>kurtas/biba/biba-women-off-white--black-printe...</td>\n",
       "      <td>[kurtas, Biba, biba]</td>\n",
       "    </tr>\n",
       "  </tbody>\n",
       "</table>\n",
       "</div>"
      ],
      "text/plain": [
       "                    product_name  \\\n",
       "0  Croc Textured Two Fold Wallet   \n",
       "1            Men Striped Sliders   \n",
       "2           Printed A-line Kurta   \n",
       "\n",
       "                                            img_link  \\\n",
       "0  https://assets.myntassets.com/dpr_2,q_60,w_210...   \n",
       "1  https://assets.myntassets.com/dpr_2,q_60,w_210...   \n",
       "2  https://assets.myntassets.com/dpr_2,q_60,w_210...   \n",
       "\n",
       "                                        product_link  \\\n",
       "0  wallets/lino-perros/lino-perros-women-peach-co...   \n",
       "1  flip-flops/mast--harbour/mast--harbour-men-nav...   \n",
       "2  kurtas/biba/biba-women-off-white--black-printe...   \n",
       "\n",
       "                                            tags  \n",
       "0           [wallets, Lino, Perros, lino-perros]  \n",
       "1  [flip-flops, Mast, &, Harbour, mast--harbour]  \n",
       "2                           [kurtas, Biba, biba]  "
      ]
     },
     "execution_count": 25,
     "metadata": {},
     "output_type": "execute_result"
    }
   ],
   "source": [
    "new_df.head(3)"
   ]
  },
  {
   "cell_type": "code",
   "execution_count": 26,
   "id": "db2acaea",
   "metadata": {},
   "outputs": [
    {
     "data": {
      "text/plain": [
       "0                           wallets Lino Perros lino-perros\n",
       "1                   flip-flops Mast & Harbour mast--harbour\n",
       "2                                          kurtas Biba biba\n",
       "3                                 tshirts Anthrilo anthrilo\n",
       "4                      kurta-sets FASHION DWAR fashion-dwar\n",
       "                                ...                        \n",
       "167985    mangalsutra Saraf RS Jewellery saraf-rs-jewellery\n",
       "167986                      messenger-bag K London k-london\n",
       "167988                            night-suits Claura claura\n",
       "167989                                dresses Athena athena\n",
       "167991                                      cushions H&M hm\n",
       "Name: tags, Length: 46013, dtype: object"
      ]
     },
     "execution_count": 26,
     "metadata": {},
     "output_type": "execute_result"
    }
   ],
   "source": [
    "new_df['tags'].apply(lambda x:\" \".join(x))"
   ]
  },
  {
   "cell_type": "code",
   "execution_count": 27,
   "id": "35f8c6bc",
   "metadata": {},
   "outputs": [
    {
     "name": "stderr",
     "output_type": "stream",
     "text": [
      "C:\\Users\\divya.LAPTOP-0B1GN7G7\\AppData\\Local\\Temp\\ipykernel_10572\\487797088.py:1: SettingWithCopyWarning: \n",
      "A value is trying to be set on a copy of a slice from a DataFrame.\n",
      "Try using .loc[row_indexer,col_indexer] = value instead\n",
      "\n",
      "See the caveats in the documentation: https://pandas.pydata.org/pandas-docs/stable/user_guide/indexing.html#returning-a-view-versus-a-copy\n",
      "  new_df['tags']=new_df['tags'].apply(lambda x:\" \".join(x))\n"
     ]
    }
   ],
   "source": [
    "new_df['tags']=new_df['tags'].apply(lambda x:\" \".join(x))"
   ]
  },
  {
   "cell_type": "code",
   "execution_count": 28,
   "id": "d0a702ea",
   "metadata": {},
   "outputs": [
    {
     "data": {
      "text/html": [
       "<div>\n",
       "<style scoped>\n",
       "    .dataframe tbody tr th:only-of-type {\n",
       "        vertical-align: middle;\n",
       "    }\n",
       "\n",
       "    .dataframe tbody tr th {\n",
       "        vertical-align: top;\n",
       "    }\n",
       "\n",
       "    .dataframe thead th {\n",
       "        text-align: right;\n",
       "    }\n",
       "</style>\n",
       "<table border=\"1\" class=\"dataframe\">\n",
       "  <thead>\n",
       "    <tr style=\"text-align: right;\">\n",
       "      <th></th>\n",
       "      <th>product_name</th>\n",
       "      <th>img_link</th>\n",
       "      <th>product_link</th>\n",
       "      <th>tags</th>\n",
       "    </tr>\n",
       "  </thead>\n",
       "  <tbody>\n",
       "    <tr>\n",
       "      <th>0</th>\n",
       "      <td>Croc Textured Two Fold Wallet</td>\n",
       "      <td>https://assets.myntassets.com/dpr_2,q_60,w_210...</td>\n",
       "      <td>wallets/lino-perros/lino-perros-women-peach-co...</td>\n",
       "      <td>wallets Lino Perros lino-perros</td>\n",
       "    </tr>\n",
       "    <tr>\n",
       "      <th>1</th>\n",
       "      <td>Men Striped Sliders</td>\n",
       "      <td>https://assets.myntassets.com/dpr_2,q_60,w_210...</td>\n",
       "      <td>flip-flops/mast--harbour/mast--harbour-men-nav...</td>\n",
       "      <td>flip-flops Mast &amp; Harbour mast--harbour</td>\n",
       "    </tr>\n",
       "    <tr>\n",
       "      <th>2</th>\n",
       "      <td>Printed A-line Kurta</td>\n",
       "      <td>https://assets.myntassets.com/dpr_2,q_60,w_210...</td>\n",
       "      <td>kurtas/biba/biba-women-off-white--black-printe...</td>\n",
       "      <td>kurtas Biba biba</td>\n",
       "    </tr>\n",
       "  </tbody>\n",
       "</table>\n",
       "</div>"
      ],
      "text/plain": [
       "                    product_name  \\\n",
       "0  Croc Textured Two Fold Wallet   \n",
       "1            Men Striped Sliders   \n",
       "2           Printed A-line Kurta   \n",
       "\n",
       "                                            img_link  \\\n",
       "0  https://assets.myntassets.com/dpr_2,q_60,w_210...   \n",
       "1  https://assets.myntassets.com/dpr_2,q_60,w_210...   \n",
       "2  https://assets.myntassets.com/dpr_2,q_60,w_210...   \n",
       "\n",
       "                                        product_link  \\\n",
       "0  wallets/lino-perros/lino-perros-women-peach-co...   \n",
       "1  flip-flops/mast--harbour/mast--harbour-men-nav...   \n",
       "2  kurtas/biba/biba-women-off-white--black-printe...   \n",
       "\n",
       "                                      tags  \n",
       "0          wallets Lino Perros lino-perros  \n",
       "1  flip-flops Mast & Harbour mast--harbour  \n",
       "2                         kurtas Biba biba  "
      ]
     },
     "execution_count": 28,
     "metadata": {},
     "output_type": "execute_result"
    }
   ],
   "source": [
    "new_df.head(3)"
   ]
  },
  {
   "cell_type": "code",
   "execution_count": 29,
   "id": "18d4329d",
   "metadata": {},
   "outputs": [],
   "source": [
    "import nltk\n",
    "from nltk.stem.porter import PorterStemmer"
   ]
  },
  {
   "cell_type": "code",
   "execution_count": 30,
   "id": "d256a2a6",
   "metadata": {},
   "outputs": [],
   "source": [
    "ps = PorterStemmer()\n",
    "def stem(text):\n",
    "    y=[]\n",
    "    for i in text.split():\n",
    "        y.append(ps.stem(i))\n",
    "    return \" \".join(y)\n"
   ]
  },
  {
   "cell_type": "code",
   "execution_count": 31,
   "id": "de3e1779",
   "metadata": {},
   "outputs": [
    {
     "name": "stderr",
     "output_type": "stream",
     "text": [
      "C:\\Users\\divya.LAPTOP-0B1GN7G7\\AppData\\Local\\Temp\\ipykernel_10572\\3514595201.py:1: SettingWithCopyWarning: \n",
      "A value is trying to be set on a copy of a slice from a DataFrame.\n",
      "Try using .loc[row_indexer,col_indexer] = value instead\n",
      "\n",
      "See the caveats in the documentation: https://pandas.pydata.org/pandas-docs/stable/user_guide/indexing.html#returning-a-view-versus-a-copy\n",
      "  new_df['tags']=new_df['tags'].apply(stem)\n"
     ]
    }
   ],
   "source": [
    "new_df['tags']=new_df['tags'].apply(stem)"
   ]
  },
  {
   "cell_type": "code",
   "execution_count": 32,
   "id": "e78e70c1",
   "metadata": {},
   "outputs": [
    {
     "data": {
      "text/plain": [
       "(20000, 4)"
      ]
     },
     "execution_count": 32,
     "metadata": {},
     "output_type": "execute_result"
    }
   ],
   "source": [
    "new_df=new_df.head(20000)\n",
    "new_df.shape"
   ]
  },
  {
   "cell_type": "code",
   "execution_count": 33,
   "id": "2b92bfe2",
   "metadata": {},
   "outputs": [],
   "source": [
    "new_df.to_csv('processed_data.csv')"
   ]
  },
  {
   "cell_type": "code",
   "execution_count": 34,
   "id": "bffbc9fa",
   "metadata": {},
   "outputs": [],
   "source": [
    "from sklearn.feature_extraction.text import CountVectorizer\n"
   ]
  },
  {
   "cell_type": "code",
   "execution_count": 35,
   "id": "7918e6a6",
   "metadata": {},
   "outputs": [],
   "source": [
    "cv=CountVectorizer(max_features = 3000,stop_words='english') #max_features means how many words you want to take out of say 50000 words"
   ]
  },
  {
   "cell_type": "code",
   "execution_count": 36,
   "id": "90a3a144",
   "metadata": {},
   "outputs": [
    {
     "data": {
      "text/plain": [
       "(20000, 3000)"
      ]
     },
     "execution_count": 36,
     "metadata": {},
     "output_type": "execute_result"
    }
   ],
   "source": [
    "vectors = cv.fit_transform(new_df['tags']).toarray()\n",
    "vectors.shape"
   ]
  },
  {
   "cell_type": "code",
   "execution_count": 37,
   "id": "d149eb1a",
   "metadata": {},
   "outputs": [
    {
     "data": {
      "text/plain": [
       "array(['10', '18', '1881', ..., 'zoro', 'zouk', 'zyla'], dtype=object)"
      ]
     },
     "execution_count": 37,
     "metadata": {},
     "output_type": "execute_result"
    }
   ],
   "source": [
    "cv.get_feature_names_out()"
   ]
  },
  {
   "cell_type": "code",
   "execution_count": 38,
   "id": "00d75f62",
   "metadata": {},
   "outputs": [],
   "source": [
    "from sklearn.metrics.pairwise import cosine_similarity"
   ]
  },
  {
   "cell_type": "code",
   "execution_count": 39,
   "id": "e7408958",
   "metadata": {},
   "outputs": [],
   "source": [
    "similarity = cosine_similarity(vectors)"
   ]
  },
  {
   "cell_type": "code",
   "execution_count": 40,
   "id": "1ea2282e",
   "metadata": {},
   "outputs": [],
   "source": [
    "import pickle\n",
    "with open('similarity_matrix.pkl', 'wb') as file:\n",
    "    pickle.dump(similarity, file)"
   ]
  },
  {
   "cell_type": "code",
   "execution_count": 41,
   "id": "4b8c78d6",
   "metadata": {},
   "outputs": [
    {
     "data": {
      "text/plain": [
       "(20000, 20000)"
      ]
     },
     "execution_count": 41,
     "metadata": {},
     "output_type": "execute_result"
    }
   ],
   "source": [
    "similarity.shape"
   ]
  },
  {
   "cell_type": "code",
   "execution_count": 42,
   "id": "0f43d7c2",
   "metadata": {},
   "outputs": [
    {
     "data": {
      "text/plain": [
       "array([0., 0., 1., ..., 0., 0., 0.])"
      ]
     },
     "execution_count": 42,
     "metadata": {},
     "output_type": "execute_result"
    }
   ],
   "source": [
    "similarity[2]"
   ]
  },
  {
   "cell_type": "code",
   "execution_count": 43,
   "id": "91589397",
   "metadata": {},
   "outputs": [],
   "source": [
    "def recommend(fashion):\n",
    "    fashion_index = new_df[new_df['product_name']==fashion].index[0] # this is extracting movie index and not movie id\n",
    "    distances = list(enumerate(similarity[fashion_index]))\n",
    "    fashion_list = sorted(distances,reverse=True,key=lambda x:x[1])[1:6]\n",
    "    \n",
    "    recommended_fashion = []\n",
    "    for i in fashion_list:\n",
    "        recommended_fashion.append(new_df.iloc[i[0]].product_name)\n",
    "    \n",
    "    return recommended_fashion"
   ]
  },
  {
   "cell_type": "code",
   "execution_count": 44,
   "id": "65a42c13",
   "metadata": {},
   "outputs": [
    {
     "name": "stdout",
     "output_type": "stream",
     "text": [
      "['Embellished Maxi Dress', 'Maxi Dress with Slip Dress', 'A-Line Midi Dress with Jacket', 'Dress with Front Open Jacket', 'Checked Midi Dress with Jacket']\n"
     ]
    }
   ],
   "source": [
    "recommended_fashion = recommend('Floral Cotton Maxi Dress')\n",
    "print(recommended_fashion)"
   ]
  },
  {
   "cell_type": "code",
   "execution_count": 45,
   "id": "e44deee8",
   "metadata": {},
   "outputs": [
    {
     "data": {
      "text/plain": [
       "'Floral Cotton Maxi Dress'"
      ]
     },
     "execution_count": 45,
     "metadata": {},
     "output_type": "execute_result"
    }
   ],
   "source": [
    "fashion.product_name[5]"
   ]
  },
  {
   "cell_type": "code",
   "execution_count": 47,
   "id": "fa99b9f4",
   "metadata": {},
   "outputs": [
    {
     "data": {
      "text/plain": [
       "['Embellished Maxi Dress',\n",
       " 'Maxi Dress with Slip Dress',\n",
       " 'A-Line Midi Dress with Jacket',\n",
       " 'Dress with Front Open Jacket',\n",
       " 'Checked Midi Dress with Jacket']"
      ]
     },
     "execution_count": 47,
     "metadata": {},
     "output_type": "execute_result"
    }
   ],
   "source": [
    "fashion_index = fashion[fashion['product_name'] =='Floral Cotton Maxi Dress' ].index[0]  # this is extracting movie index and not movie id\n",
    "distances = list(enumerate(similarity[fashion_index]))\n",
    "fashion_list = sorted(distances, reverse=True, key=lambda x: x[1])[1:6]\n",
    "\n",
    "recommended_fashion = []\n",
    "for i in fashion_list:\n",
    "    recommended_fashion.append(fashion.iloc[i[0]].product_name)\n",
    "    \n",
    "recommended_fashion"
   ]
  },
  {
   "cell_type": "code",
   "execution_count": 48,
   "id": "6538b71a",
   "metadata": {},
   "outputs": [],
   "source": [
    "final_df = pd.read_csv('processed_data.csv')"
   ]
  },
  {
   "cell_type": "code",
   "execution_count": 59,
   "id": "9988441c",
   "metadata": {},
   "outputs": [
    {
     "data": {
      "text/plain": [
       "'Croc Textured Two Fold Wallet'"
      ]
     },
     "execution_count": 59,
     "metadata": {},
     "output_type": "execute_result"
    }
   ],
   "source": [
    "final_df['product_name'].iloc[0]"
   ]
  },
  {
   "cell_type": "code",
   "execution_count": 60,
   "id": "81becc45",
   "metadata": {},
   "outputs": [],
   "source": [
    "categories=[]\n",
    "for i in range(final_df['product_name'].shape[0]):\n",
    "    categories.append(final_df['product_name'].iloc[i])\n",
    "    "
   ]
  },
  {
   "cell_type": "code",
   "execution_count": 62,
   "id": "1db7697e",
   "metadata": {},
   "outputs": [
    {
     "data": {
      "text/plain": [
       "'Croc Textured Two Fold Wallet'"
      ]
     },
     "execution_count": 62,
     "metadata": {},
     "output_type": "execute_result"
    }
   ],
   "source": [
    "categories[0]"
   ]
  },
  {
   "cell_type": "code",
   "execution_count": null,
   "id": "9dfa729e",
   "metadata": {},
   "outputs": [],
   "source": []
  }
 ],
 "metadata": {
  "kernelspec": {
   "display_name": "Python 3 (ipykernel)",
   "language": "python",
   "name": "python3"
  },
  "language_info": {
   "codemirror_mode": {
    "name": "ipython",
    "version": 3
   },
   "file_extension": ".py",
   "mimetype": "text/x-python",
   "name": "python",
   "nbconvert_exporter": "python",
   "pygments_lexer": "ipython3",
   "version": "3.10.9"
  }
 },
 "nbformat": 4,
 "nbformat_minor": 5
}
